{
 "cells": [
  {
   "cell_type": "code",
   "execution_count": 1,
   "id": "5f6318cd",
   "metadata": {},
   "outputs": [
    {
     "name": "stdout",
     "output_type": "stream",
     "text": [
      "Hola mundo\n"
     ]
    }
   ],
   "source": [
    "print(\"Hola mundo\")"
   ]
  },
  {
   "cell_type": "markdown",
   "id": "4deb5fb2",
   "metadata": {},
   "source": [
    "## Variables\n",
    "Las variables son espacios en la memoria de la computadora en los cuales podemos guardar datos durante la ejecucion de nuestro programa.\n",
    "\n"
   ]
  },
  {
   "cell_type": "code",
   "execution_count": 2,
   "id": "5e380b16",
   "metadata": {},
   "outputs": [
    {
     "name": "stdout",
     "output_type": "stream",
     "text": [
      "Lujan\n",
      "Melgarejo\n"
     ]
    }
   ],
   "source": [
    "nombre = \"Lujan\"\n",
    "apellido = \"Melgarejo\"\n",
    "print(nombre)\n",
    "print(apellido)"
   ]
  },
  {
   "cell_type": "code",
   "execution_count": 5,
   "id": "2ddbb15e",
   "metadata": {},
   "outputs": [
    {
     "name": "stdout",
     "output_type": "stream",
     "text": [
      "manzana\n",
      "5\n",
      "naranja\n"
     ]
    }
   ],
   "source": [
    "frutas = \"manzana\"\n",
    "print(frutas)\n",
    "cantidad_de_frutas = 5\n",
    "print(cantidad_de_frutas)\n",
    "frutas = \"naranja\"\n",
    "print(frutas)"
   ]
  },
  {
   "cell_type": "code",
   "execution_count": null,
   "id": "7b1ab86f",
   "metadata": {},
   "outputs": [
    {
     "name": "stdout",
     "output_type": "stream",
     "text": [
      "('naranja', 'pera')\n"
     ]
    }
   ],
   "source": [
    "frutas = \"naranja\", \"pera\"\n",
    "print(frutas)"
   ]
  },
  {
   "cell_type": "markdown",
   "id": "11cf32e6",
   "metadata": {},
   "source": [
    "## Tipo de datos\n",
    "- int - integer -  122 (Numeros enteros)\n",
    "- float - floatin - 34.9 (Numeros decimales)\n",
    "- str - string - \"Holaa\" (Cadena de texto)\n",
    "- bool - booleano - True or False\n",
    "\n"
   ]
  },
  {
   "cell_type": "code",
   "execution_count": null,
   "id": "a9b086f7",
   "metadata": {},
   "outputs": [
    {
     "name": "stdout",
     "output_type": "stream",
     "text": [
      "Lujan\n"
     ]
    }
   ],
   "source": [
    "numero = 1334\n",
    "numero_decimal = 23.67\n",
    "Texto = \" 'Lujan Melgarejo' \" \n",
    "cajon_abierto = False\n"
   ]
  },
  {
   "cell_type": "markdown",
   "id": "14c052a6",
   "metadata": {},
   "source": [
    "## Operaciones Aritmeticas\n",
    "- suma +\n",
    "- resta - \n",
    "- multiplicaion *\n",
    "- division /\n",
    "- division entera //\n"
   ]
  },
  {
   "cell_type": "code",
   "execution_count": null,
   "id": "f907a7c0",
   "metadata": {},
   "outputs": [
    {
     "name": "stdout",
     "output_type": "stream",
     "text": [
      "35000\n",
      "30000\n",
      "76000\n",
      "5066.666666666667\n"
     ]
    }
   ],
   "source": [
    "# Suma \n",
    "precio_total = 15000 + 20000\n",
    "print(precio_total)\n",
    "precio_descuento = precio_total - 5000\n",
    "print(precio_descuento)\n",
    "precio_gaseosa = 19000\n",
    "cantidad_gaseosa = 4\n",
    "costo_total = precio_gaseosa * cantidad_gaseosa\n",
    "print(costo_total)\n",
    "cantidad_personas = 15\n",
    "precio_por_persona = costo_total / cantidad_personas \n",
    "print(precio_por_persona)"
   ]
  },
  {
   "cell_type": "code",
   "execution_count": 30,
   "id": "d0866380",
   "metadata": {},
   "outputs": [
    {
     "name": "stdout",
     "output_type": "stream",
     "text": [
      "Cantidad de frutas: 10\n",
      "La cantidad de frutas restantes es: 5\n"
     ]
    }
   ],
   "source": [
    "# Suma\n",
    "cantidad_manzanas = 6\n",
    "cantidad_naranjas = 4\n",
    "cantidad_frutas = cantidad_manzanas + cantidad_naranjas\n",
    "print(\"Cantidad de frutas:\",cantidad_frutas)\n",
    "\n",
    "# Resta \n",
    "frutas_vendidas = 5\n",
    "frutas_restantes = cantidad_frutas - frutas_vendidas\n",
    "print(\"La cantidad de frutas restantes es:\",frutas_restantes)\n",
    "\n"
   ]
  },
  {
   "cell_type": "code",
   "execution_count": 34,
   "id": "247c05b4",
   "metadata": {},
   "outputs": [
    {
     "name": "stdout",
     "output_type": "stream",
     "text": [
      "Hola, mi nombre es  Lujan Melgarejo\n"
     ]
    }
   ],
   "source": [
    "nombre = \"Lujan\"\n",
    "apellido = \"Melgarejo\"\n",
    "print(\"Hola, mi nombre es \",nombre,apellido)"
   ]
  },
  {
   "cell_type": "code",
   "execution_count": null,
   "id": "f9c6fea5",
   "metadata": {},
   "outputs": [
    {
     "name": "stdout",
     "output_type": "stream",
     "text": [
      "LujanMelgarejo\n",
      "Lujan Melgarejo\n",
      "Hola, mi nombre es Lujan Melgarejo\n",
      "Hola mi nombre es: Lujan Melgarejo\n",
      "Hola, mi nombre es LujanMelgarejo\n"
     ]
    }
   ],
   "source": [
    "nombre = \"Lujan\"\n",
    "apellido = \"Melgarejo\"\n",
    "nombre_completo = nombre + apellido\n",
    "print(nombre_completo)\n",
    "print(nombre + \" \" + apellido)\n",
    "print(\"Hola, mi nombre es\" + \" \" + nombre + \" \" + apellido)\n",
    "print(f\"Hola mi nombre es: {nombre} {apellido}\")\n",
    "print(\"Hola, mi nombre es\", nombre_completo) # Separa elementos\n"
   ]
  },
  {
   "cell_type": "code",
   "execution_count": 44,
   "id": "9c8bd8a9",
   "metadata": {},
   "outputs": [
    {
     "name": "stdout",
     "output_type": "stream",
     "text": [
      "Hola, mi nombre es  Lujan Y el nombre de mi  compañero es Marcos Mazacotte\n"
     ]
    }
   ],
   "source": [
    "nombre = \"Marcos\"\n",
    "apellido = \"Mazacotte\"\n",
    "print(f\"Hola, mi nombre es  Lujan Y el nombre de mi  compañero es {nombre} {apellido}\")"
   ]
  },
  {
   "cell_type": "code",
   "execution_count": 52,
   "id": "78c8de6c",
   "metadata": {},
   "outputs": [
    {
     "name": "stdout",
     "output_type": "stream",
     "text": [
      "La suma de 5 y 5 es igual a 10\n"
     ]
    }
   ],
   "source": [
    "#nombre = input(\"Cual es tu nombre?\")\n",
    "#print(nombre)\n",
    "num_1 = int(input(\"Dame el primer  numero\"))\n",
    "num_2 = int(input(\"Dame el segundo numero\"))\n",
    "suma = num_1 + num_2\n",
    "print(f\"La suma de {num_1} y {num_2} es igual a {suma}\")"
   ]
  },
  {
   "cell_type": "code",
   "execution_count": 53,
   "id": "fbcc65de",
   "metadata": {},
   "outputs": [
    {
     "name": "stdout",
     "output_type": "stream",
     "text": [
      "La suma de 8 y 2 es igual a 10\n"
     ]
    }
   ],
   "source": [
    "num_1 = int(input(\"Ingrese el primer  numero:\"))\n",
    "num_2 = int(input(\"Ingrese el segundo numero:\"))\n",
    "suma = num_1 + num_2\n",
    "print(f\"La suma de {num_1} y {num_2} es igual a {suma}\")"
   ]
  },
  {
   "cell_type": "markdown",
   "id": "30a9963a",
   "metadata": {},
   "source": [
    "## Funciones\n",
    "Las funciones son un conjunto de instrucciones de una operacion que quisieramos volver a repetir en difer4entes \n",
    "partes de nuestro programa.\n",
    "Las funciones existen para permitirnos re utilizar codigo que ya escribimos anteriormente, sin la necesidad de volver a escribirlo."
   ]
  },
  {
   "cell_type": "code",
   "execution_count": 65,
   "id": "fc05a93d",
   "metadata": {},
   "outputs": [
    {
     "name": "stdout",
     "output_type": "stream",
     "text": [
      "Listo\n",
      "Abrir el pan\n",
      "Agregar jamon\n",
      "Agregar queso\n",
      "Cerrar pan\n"
     ]
    }
   ],
   "source": [
    "def preparar_sandwich():\n",
    "    print(\"Abrir el pan\")\n",
    "    print(\"Agregar jamon\")\n",
    "    print(\"Agregar queso\")\n",
    "    print(\"Cerrar pan\")\n",
    "print(\"Listo\")\n",
    "preparar_sandwich()\n",
    "#preparar_sandwich()\n",
    "#preparar_sandwich()"
   ]
  },
  {
   "cell_type": "code",
   "execution_count": 71,
   "id": "ccc29285",
   "metadata": {},
   "outputs": [
    {
     "name": "stdout",
     "output_type": "stream",
     "text": [
      "Poner agua en la cafetera\n",
      "Cargar el cafe\n",
      "Prender la maquina\n",
      "Una vez ya hecho, servir el cafe en una taza\n",
      "Endulzar a gusto\n",
      "Ya tenes tu cafe hecho!\n",
      "Poner agua en la cafetera\n",
      "Cargar el cafe\n",
      "Prender la maquina\n",
      "Una vez ya hecho, servir el cafe en una taza\n",
      "Endulzar a gusto\n",
      "Ya tenes tu cafe hecho!\n",
      "Poner agua en la cafetera\n",
      "Cargar el cafe\n",
      "Prender la maquina\n",
      "Una vez ya hecho, servir el cafe en una taza\n",
      "Endulzar a gusto\n",
      "Ya tenes tu cafe hecho!\n"
     ]
    }
   ],
   "source": [
    "def preparar_cafe():\n",
    "    print(\"Poner agua en la cafetera\")\n",
    "    print(\"Cargar el cafe\")\n",
    "    print(\"Prender la maquina\")\n",
    "    print(\"Una vez ya hecho, servir el cafe en una taza\")\n",
    "    print(\"Endulzar a gusto\")\n",
    "    print(\"Ya tenes tu cafe hecho!\")\n",
    "preparar_cafe()\n",
    "\n",
    "preparar_cafe()\n",
    "\n",
    "preparar_cafe()"
   ]
  },
  {
   "cell_type": "code",
   "execution_count": 77,
   "id": "45a7317d",
   "metadata": {},
   "outputs": [
    {
     "name": "stdout",
     "output_type": "stream",
     "text": [
      "Abrir el pan\n",
      "Agregar Huevo\n",
      "Cerrar pan\n",
      "Listo\n",
      "Abrir el pan\n",
      "Agregar Tomate y Lechuga\n",
      "Cerrar pan\n",
      "Listo\n"
     ]
    }
   ],
   "source": [
    "def preparar_sandwich(ingrediente):\n",
    "    print(\"Abrir el pan\")\n",
    "    print(\"Agregar\",ingrediente)\n",
    "    print(\"Cerrar pan\")\n",
    "    print(\"Listo\")\n",
    "preparar_sandwich(\"Huevo\")\n",
    "preparar_sandwich(\"Tomate y Lechuga\")"
   ]
  },
  {
   "cell_type": "code",
   "execution_count": 82,
   "id": "2bf5da7a",
   "metadata": {},
   "outputs": [
    {
     "name": "stdout",
     "output_type": "stream",
     "text": [
      "Que sea Iphone\n",
      "Que sea del Iphone 13 para arriba\n",
      "Que tenga 256 GB de almacenamiento\n"
     ]
    }
   ],
   "source": [
    "\n",
    "def caracteristica_celular(GB):\n",
    "    print(\"Que sea Iphone\")\n",
    "    print(\"Que sea del Iphone 13 para arriba\")\n",
    "    print(f\"Que tenga {GB} GB de almacenamiento\")\n",
    "caracteristica_celular(\"256\")"
   ]
  },
  {
   "cell_type": "code",
   "execution_count": 3,
   "id": "ddd0e437",
   "metadata": {},
   "outputs": [
    {
     "name": "stdout",
     "output_type": "stream",
     "text": [
      "Que sea de la marca Iphone \n",
      "Modelo 15 Pro Max\n",
      "Que tenga 256 GB de almacenamiento\n"
     ]
    }
   ],
   "source": [
    "def caracteristica_celular(Marca, Modelo, GB):\n",
    "    print(f\"Que sea de la marca {Marca}\")\n",
    "    print(f\"Modelo {Modelo}\")\n",
    "    print(f\"Que tenga {GB} GB de almacenamiento\")\n",
    "caracteristica_celular(\"Iphone \",\"15 Pro Max\",\"256\")"
   ]
  },
  {
   "cell_type": "code",
   "execution_count": null,
   "id": "3f4720c7",
   "metadata": {},
   "outputs": [],
   "source": []
  }
 ],
 "metadata": {
  "kernelspec": {
   "display_name": "Python 3",
   "language": "python",
   "name": "python3"
  },
  "language_info": {
   "codemirror_mode": {
    "name": "ipython",
    "version": 3
   },
   "file_extension": ".py",
   "mimetype": "text/x-python",
   "name": "python",
   "nbconvert_exporter": "python",
   "pygments_lexer": "ipython3",
   "version": "3.13.3"
  }
 },
 "nbformat": 4,
 "nbformat_minor": 5
}
