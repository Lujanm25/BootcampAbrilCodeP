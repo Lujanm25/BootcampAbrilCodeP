{
 "cells": [
  {
   "cell_type": "code",
   "execution_count": 8,
   "id": "ed5bd220",
   "metadata": {},
   "outputs": [
    {
     "name": "stdout",
     "output_type": "stream",
     "text": [
      "Buen dia Lujan\n",
      "Buen dia maria\n"
     ]
    }
   ],
   "source": [
    "def saludo_bienvenida(Nombre):\n",
    "    print(f\"Buen dia {Nombre}\")\n",
    "saludo_bienvenida(\"Lujan\")\n",
    "usuario = input(\"Ingrese su nombre\")\n",
    "saludo_bienvenida(usuario)\n"
   ]
  },
  {
   "cell_type": "markdown",
   "id": "c0c036a0",
   "metadata": {},
   "source": [
    "## Condicionales\n"
   ]
  },
  {
   "cell_type": "code",
   "execution_count": 10,
   "id": "cf3bddfa",
   "metadata": {},
   "outputs": [
    {
     "name": "stdout",
     "output_type": "stream",
     "text": [
      "Usted es menor de edad, no puede ingresar!\n"
     ]
    }
   ],
   "source": [
    "edad = int(input(\"Ingrese su edad\"))\n",
    "if edad >= 18:\n",
    "   print(\"Usted es mayor de edad,puede ingresar\")\n",
    "else:\n",
    "   print(\"Usted es menor de edad, no puede ingresar!\")"
   ]
  },
  {
   "cell_type": "code",
   "execution_count": null,
   "id": "eebcc87d",
   "metadata": {},
   "outputs": [
    {
     "name": "stdout",
     "output_type": "stream",
     "text": [
      "Usted es estudiante\n"
     ]
    }
   ],
   "source": [
    "edad_individuo = int(input(\"Ingrese su edad\"))\n",
    "if edad_individuo  < 18:\n",
    "    print(\"Usted es estudiante\")\n",
    "elif edad_individuo > 65:\n",
    "    print(\"Usted es Jubilado\")\n",
    "else:\n",
    "    print(\"Usted es trabajador\")"
   ]
  },
  {
   "cell_type": "markdown",
   "id": "046f2434",
   "metadata": {},
   "source": [
    "## Challenge🤺 - 20m\n",
    "\n",
    "Escribe un programa que pregunte al usuario por su edad y determine si tiene edad suficiente para comprar y consumir alcohol.\n",
    "- Si el usuario tiene mas de 18 pero menos de 21 impirmir \"Podes tomar pero no comprar\"\n",
    "- Si el usuario tiene menos de 18 imprimir \"Juguito nomas\"\n",
    "- Si el usuario tiene mas de 21 imprimir \"Hace lo que quieras\""
   ]
  },
  {
   "cell_type": "code",
   "execution_count": 31,
   "id": "4e45cdb6",
   "metadata": {},
   "outputs": [
    {
     "name": "stdout",
     "output_type": "stream",
     "text": [
      "Hace lo que quieras, nde tujama\n"
     ]
    }
   ],
   "source": [
    "edad_individuo = int(input(\"Ingrese su edad\"))\n",
    "if edad_individuo < 18:\n",
    "    print(\"Juguito nomas para vos, criatura\")\n",
    "elif edad_individuo  <= 21:\n",
    "    print(\"Podes consumir alcohol, pero no comprar\")\n",
    "else:\n",
    "    print(\"Hace lo que quieras, nde tujama\")"
   ]
  },
  {
   "cell_type": "code",
   "execution_count": 34,
   "id": "e09cc776",
   "metadata": {},
   "outputs": [
    {
     "name": "stdout",
     "output_type": "stream",
     "text": [
      "Jubilado\n"
     ]
    }
   ],
   "source": [
    "edad_persona = int(input(\"Ingrese su edad\"))\n",
    "trabaja = True\n",
    "if edad_persona < 18:\n",
    "    print(\"Estudiante\")\n",
    "elif edad_persona < 65 and trabaja == True:\n",
    "    print(\"Activa laboralmente\")\n",
    "elif edad_persona < 65 and trabaja == False:\n",
    "    print(\"Dsempleado\")\n",
    "else:\n",
    "    print(\"Jubilado\")"
   ]
  },
  {
   "cell_type": "code",
   "execution_count": null,
   "id": "94e8d4c3",
   "metadata": {},
   "outputs": [
    {
     "name": "stdout",
     "output_type": "stream",
     "text": [
      "Activa laboralmente\n"
     ]
    }
   ],
   "source": [
    "def chequear_edad(edad, trabaja):\n",
    "   if edad < 18:\n",
    "    print(\"Estudiante\")\n",
    "   elif edad < 65 and trabaja == True:\n",
    "    print(\"Activo laboralmente\")\n",
    "   elif edad < 65 and trabaja == False:\n",
    "    print(\"Desempleado\")\n",
    "   else:\n",
    "    print(\"Jubilado\") \n",
    "chequear_edad(21, True)"
   ]
  },
  {
   "cell_type": "markdown",
   "id": "b8371683",
   "metadata": {},
   "source": [
    "### Challenge 🤺 - 30m\n",
    "\n",
    "Escribir un programa en el que se pregunte al usuario por una temperatura (en grados Celsius), imprima la temperatura escrita, y luego clasificar la temperatura ingresada en los siguientes niveles:\n",
    "\n",
    "Entre -10 y 18 grados, que imprima \"Fresquete\".\n",
    "Entre 19 y 30 grados, que imprima \"Calor'i\".\n",
    "Entre 31 y 45 grados, que imprima \"Hakuuuuuu\".\n",
    "Para todo lo demás, imprimir \"Ñamano mba'e!\"."
   ]
  },
  {
   "cell_type": "code",
   "execution_count": 43,
   "id": "1484b374",
   "metadata": {},
   "outputs": [
    {
     "name": "stdout",
     "output_type": "stream",
     "text": [
      "La temperatura es de 23 grados celsius\n",
      "Calor'i\n",
      "La temperatura es de 47 grados celsius\n",
      "Ñamano mba'e\n"
     ]
    }
   ],
   "source": [
    "def temperatura_actual(grados):\n",
    "    print(f\"La temperatura es de {grados} grados celsius\")\n",
    "    if grados >= - 10 and grados <= 18:\n",
    "        print(\"Refreska'i\")\n",
    "    elif grados >= 19 and grados <= 30:\n",
    "        print(\"Calor'i\")\n",
    "    elif grados >= 31 and grados <= 45:\n",
    "        print(\"Hakuuroo\")\n",
    "    else:\n",
    "        print(\"Ñamano mba'e\")\n",
    "temperatura_actual(23)\n",
    "grados = int(input(\"Ingrese la temperatura en grados celsius\"))\n",
    "temperatura_actual(grados)"
   ]
  },
  {
   "cell_type": "markdown",
   "id": "7d6721f3",
   "metadata": {},
   "source": [
    "## CICLOS\n",
    "#While"
   ]
  },
  {
   "cell_type": "code",
   "execution_count": 45,
   "id": "cfdbe135",
   "metadata": {},
   "outputs": [
    {
     "name": "stdout",
     "output_type": "stream",
     "text": [
      "10\n",
      "Numero correcto\n",
      "10\n"
     ]
    }
   ],
   "source": [
    "numero_a_adivinar = 10 \n",
    "numero = 3 \n",
    "while numero != numero_a_adivinar:\n",
    "    numero = int(input(\"Introduce un numero\"))\n",
    "    print(numero)\n",
    "print(\"Numero correcto\")\n",
    "print(numero)"
   ]
  },
  {
   "cell_type": "markdown",
   "id": "c59459cf",
   "metadata": {},
   "source": [
    "## While True"
   ]
  },
  {
   "cell_type": "code",
   "execution_count": 44,
   "id": "e368147e",
   "metadata": {},
   "outputs": [
    {
     "name": "stdout",
     "output_type": "stream",
     "text": [
      "Numero Incorrecto\n",
      "El numero es correcto\n"
     ]
    }
   ],
   "source": [
    "numero = 10\n",
    "\n",
    "while True:\n",
    "    numero_ingresado = int(input(\"Introduce un numero\"))\n",
    "    if numero_ingresado == numero:\n",
    "        print(\"El numero es correcto\")\n",
    "        break \n",
    "    else:\n",
    "        print(\"Numero Incorrecto\")"
   ]
  },
  {
   "cell_type": "markdown",
   "id": "280fa110",
   "metadata": {},
   "source": [
    "### Challenge 🤺 - 20m\n",
    "Escribir un programa que almacene una contraseña en una variable, y pregunte al usuario por la contraseña hasta que introduzca la contraseña correcta.\n",
    "\n",
    "Cuando el usuario ingrese la contrasena correcta, imprimir un mensaje secreto."
   ]
  },
  {
   "cell_type": "code",
   "execution_count": 3,
   "id": "1ab16c20",
   "metadata": {},
   "outputs": [
    {
     "name": "stdout",
     "output_type": "stream",
     "text": [
      "Contraseña Incorrecta, intenta otra vez!\n",
      "Felicidades, conoces la contraseña secreta!\n"
     ]
    }
   ],
   "source": [
    "contraseña_correcta = \"T3t3\"\n",
    "while True:\n",
    "    contraseña = input(\"Ingrese la contraseña\")\n",
    "    if contraseña == contraseña_correcta:\n",
    "        print(\"Felicidades, conoces la contraseña secreta!\")\n",
    "        break\n",
    "    else:\n",
    "        print(\"Contraseña Incorrecta, intenta otra vez!\")"
   ]
  },
  {
   "cell_type": "markdown",
   "id": "0f6a0c89",
   "metadata": {},
   "source": [
    "## Listas\n"
   ]
  },
  {
   "cell_type": "code",
   "execution_count": 7,
   "id": "9e3b25cb",
   "metadata": {},
   "outputs": [
    {
     "name": "stdout",
     "output_type": "stream",
     "text": [
      "banana\n",
      "['pera', 'manzana', 'banana', 'Kiwi']\n",
      "['pera', 'durazno', 'banana', 'Kiwi']\n",
      "['durazno', 'banana', 'Kiwi']\n",
      "['durazno', 'Kiwi']\n",
      "2\n"
     ]
    }
   ],
   "source": [
    "lista_frutas = [\"pera\",\"manzana\",\"banana\"]\n",
    "# diferentes tipos de datos\n",
    "lista_bool = [True, False, True]\n",
    "lista_numeros = [1, 2, 3, 4]\n",
    "print(lista_frutas[2])\n",
    "\n",
    "#Anhadir elementos\n",
    "lista_frutas.append(\"Kiwi\")\n",
    "print(lista_frutas)\n",
    "\n",
    "#Modificar\n",
    "lista_frutas[1] = \"durazno\"\n",
    "print(lista_frutas)\n",
    "\n",
    "#Eliminar elemento especifico\n",
    "lista_frutas.remove(\"pera\")\n",
    "print(lista_frutas)\n",
    "\n",
    "# Eliminar un elemento por indice\n",
    "lista_frutas.pop(1)\n",
    "print(lista_frutas)\n",
    "\n",
    "# Contar elementos de la lista\n",
    "print(len(lista_frutas))"
   ]
  },
  {
   "cell_type": "markdown",
   "id": "713a5067",
   "metadata": {},
   "source": [
    "### Challenge 🤺 - 20m\n",
    "\n",
    "Crear una lista de 5 elementos. Luego, seguir los siguientes pasos.\n",
    "\n",
    "- Agregar un elemento al final de la lista.\n",
    "\n",
    "- Modificar el segundo elemento.\n",
    "\n",
    "- Eliminar el tercer elemento."
   ]
  },
  {
   "cell_type": "code",
   "execution_count": 12,
   "id": "7143785d",
   "metadata": {},
   "outputs": [
    {
     "name": "stdout",
     "output_type": "stream",
     "text": [
      "['Abc', 'def', 'ghi', 'jkl', 'mnñ', 'opq']\n",
      "['Abc', 'rst', 'ghi', 'jkl', 'mnñ', 'opq']\n",
      "['Abc', 'rst', 'jkl', 'mnñ', 'opq']\n"
     ]
    }
   ],
   "source": [
    "lista = [\"Abc\",\"def\",\"ghi\",\"jkl\",\"mnñ\",]\n",
    "lista.append(\"opq\")\n",
    "print(lista)\n",
    "lista[1] = \"rst\"\n",
    "print(lista)\n",
    "lista.remove(\"ghi\")\n",
    "print(lista)"
   ]
  },
  {
   "cell_type": "code",
   "execution_count": null,
   "id": "bec5061a",
   "metadata": {},
   "outputs": [],
   "source": [
    "dias_de_la_semana = [1,2,3,4,5,6,7]\n",
    "for dia in dias_de_la_semana:\n",
    "    print(dia)\n",
    "\n",
    "for i in range(12):\n",
    "    print(\"Holaa\")"
   ]
  },
  {
   "cell_type": "markdown",
   "id": "b8de9d8f",
   "metadata": {},
   "source": [
    "### Challenge 🤺 - 20m\n",
    "\n",
    "Escribir un programa que itere en un rango de 10 veces. Por cada iteracion multiplicar el iterador por dos e imprimir el resultado.\n"
   ]
  },
  {
   "cell_type": "code",
   "execution_count": 25,
   "id": "eddecdc6",
   "metadata": {},
   "outputs": [
    {
     "name": "stdout",
     "output_type": "stream",
     "text": [
      "El resultado de esta multiplicacion es: 2\n",
      "El resultado de esta multiplicacion es: 4\n",
      "El resultado de esta multiplicacion es: 6\n",
      "El resultado de esta multiplicacion es: 8\n",
      "El resultado de esta multiplicacion es: 10\n",
      "El resultado de esta multiplicacion es: 12\n",
      "El resultado de esta multiplicacion es: 14\n",
      "El resultado de esta multiplicacion es: 16\n",
      "El resultado de esta multiplicacion es: 18\n",
      "El resultado de esta multiplicacion es: 20\n"
     ]
    }
   ],
   "source": [
    "for i in range(1,11):\n",
    "    resultado = i * 2\n",
    "    print(f\"El resultado de esta multiplicacion es: {resultado}\")"
   ]
  },
  {
   "cell_type": "markdown",
   "id": "64de4487",
   "metadata": {},
   "source": [
    "### Challenge 🤺 - 20m\n",
    "\n",
    "Recorrer los elementos de una lista de marcas e imprimir cada marca *__solamente__* si tiene 6 letras o más."
   ]
  },
  {
   "cell_type": "code",
   "execution_count": null,
   "id": "a904f932",
   "metadata": {},
   "outputs": [
    {
     "name": "stdout",
     "output_type": "stream",
     "text": [
      "La palabra Adidas contiene 6 letras o mas\n",
      "La palabra Under Armour contiene 6 letras o mas\n",
      "La palabra Reebok contiene 6 letras o mas\n"
     ]
    }
   ],
   "source": [
    "# Crear una lista de marcas\n",
    "marcas_deportivas = [\"Nike\", \"Adidas\", \"Vans\", \"Puma\", \"Under Armour\", \"Reebok\"]\n",
    "# Recorrer la lista de marcas\n",
    "for marca in marcas_deportivas:\n",
    " # Crear una condicion si la palabra contiene mas de 6 caracteres    \n",
    "    if len(marca) >= 6:\n",
    "# Imprimir solamente las palabras que contengan 6 o mas caracteres        \n",
    "        print(f\"La palabra {marca} contiene 6 letras o mas\")\n",
    "    "
   ]
  },
  {
   "cell_type": "markdown",
   "id": "56b02c67",
   "metadata": {},
   "source": []
  },
  {
   "cell_type": "code",
   "execution_count": 34,
   "id": "86e1fe66",
   "metadata": {},
   "outputs": [
    {
     "name": "stdout",
     "output_type": "stream",
     "text": [
      "Encontre una o!\n",
      "Encontre una o!\n"
     ]
    }
   ],
   "source": [
    "# pedir al usuario que ingrese una frase\n",
    "frase = input(\"Ingrese una frase\")\n",
    "# recorrer la frase letra por letra\n",
    "for letra in frase:\n",
    "# cree una condicion para saber si la palabra contiene la letra o\n",
    "    if letra == \"o\":\n",
    "# imprimir un mensaje cada vez que se encuentre una o\n",
    "       print(\"Encontre una o!\")\n"
   ]
  }
 ],
 "metadata": {
  "kernelspec": {
   "display_name": "Python 3",
   "language": "python",
   "name": "python3"
  },
  "language_info": {
   "codemirror_mode": {
    "name": "ipython",
    "version": 3
   },
   "file_extension": ".py",
   "mimetype": "text/x-python",
   "name": "python",
   "nbconvert_exporter": "python",
   "pygments_lexer": "ipython3",
   "version": "3.13.3"
  }
 },
 "nbformat": 4,
 "nbformat_minor": 5
}
